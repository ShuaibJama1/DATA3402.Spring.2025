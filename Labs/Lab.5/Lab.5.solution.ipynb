{
 "cells": [
  {
   "cell_type": "markdown",
   "metadata": {},
   "source": [
    "# Lab 5 Solutions\n"
   ]
  },
  {
   "cell_type": "markdown",
   "metadata": {},
   "source": [
    "Matrix Representation: In this lab you will be creating a simple linear algebra system. In memory, we will represent matrices as nested python lists as we have done in lecture. In the exercises below, you are required to explicitly test every feature you implement, demonstrating it works.\n",
    "\n",
    "1. Create a `matrix` class with the following properties:\n",
    "    * It can be initialized in 2 ways:\n",
    "        1. with arguments `n` and `m`, the size of the matrix. A newly instanciated matrix will contain all zeros.\n",
    "        2. with a list of lists of values. Note that since we are using lists of lists to implement matrices, it is possible that not all rows have the same number of columns. Test explicitly that the matrix is properly specified.\n",
    "    * Matrix instances `M` can be indexed with `M[i][j]` and `M[i,j]`.\n",
    "    * Matrix assignment works in 2 ways:\n",
    "        1. If `M_1` and `M_2` are `matrix` instances `M_1=M_2` sets the values of `M_1` to those of `M_2`, if they are the same size. Error otherwise.\n",
    "        2. In example above `M_2` can be a list of lists of correct size.\n"
   ]
  },
  {
   "cell_type": "markdown",
   "metadata": {},
   "source": [
    "2. Add the following methods:\n",
    "    * `shape()`: returns a tuple `(n,m)` of the shape of the matrix.\n",
    "    * `transpose()`: returns a new matrix instance which is the transpose of the matrix.\n",
    "    * `row(n)` and `column(n)`: that return the nth row or column of the matrix M as a new appropriately shaped matrix object.\n",
    "    * `to_list()`: which returns the matrix as a list of lists.\n",
    "    *  `block(n_0,n_1,m_0,m_1)` that returns a smaller matrix located at the n_0 to n_1 columns and m_0 to m_1 rows. \n",
    "    * (Extra credit) Modify `__getitem__` implemented above to support slicing.\n",
    "        "
   ]
  },
  {
   "cell_type": "markdown",
   "metadata": {},
   "source": [
    "3. Write functions that create special matrices (note these are standalone functions, not member functions of your `matrix` class):\n",
    "    * `constant(n,m,c)`: returns a `n` by `m` matrix filled with floats of value `c`.\n",
    "    * `zeros(n,m)` and `ones(n,m)`: return `n` by `m` matrices filled with floats of value `0` and `1`, respectively.\n",
    "    * `eye(n)`: returns the n by n identity matrix."
   ]
  },
  {
   "cell_type": "markdown",
   "metadata": {},
   "source": [
    "4. Add the following member functions to your class. Make sure to appropriately test the dimensions of the matrices to make sure the operations are correct.\n",
    "    * `M.scalarmul(c)`: a matrix that is scalar product $cM$, where every element of $M$ is multiplied by $c$.\n",
    "    * `M.add(N)`: adds two matrices $M$ and $N$. Don’t forget to test that the sizes of the matrices are compatible for this and all other operations.\n",
    "    * `M.sub(N)`: subtracts two matrices $M$ and $N$.\n",
    "    * `M.mat_mult(N)`: returns a matrix that is the matrix product of two matrices $M$ and $N$.\n",
    "    * `M.element_mult(N)`: returns a matrix that is the element-wise product of two matrices $M$ and $N$.\n",
    "    * `M.equals(N)`: returns true/false if $M==N$."
   ]
  },
  {
   "cell_type": "markdown",
   "metadata": {},
   "source": [
    "5. Overload python operators to appropriately use your functions in 4 and allow expressions like:\n",
    "    * 2*M\n",
    "    * M*2\n",
    "    * M+N\n",
    "    * M-N\n",
    "    * M*N\n",
    "    * M==N\n",
    "    * M=N\n"
   ]
  },
  {
   "cell_type": "markdown",
   "metadata": {},
   "source": [
    "6. Demonstrate the basic properties of matrices with your matrix class by creating two 2 by 2 example matrices using your Matrix class and illustrating the following:\n",
    "\n",
    "$$\n",
    "(AB)C=A(BC)\n",
    "$$\n",
    "$$\n",
    "A(B+C)=AB+AC\n",
    "$$\n",
    "$$\n",
    "AB\\neq BA\n",
    "$$\n",
    "$$\n",
    "AI=A\n",
    "$$"
   ]
  },
  {
   "cell_type": "code",
   "execution_count": 1,
   "metadata": {},
   "outputs": [],
   "source": [
    "class Matrix:\n",
    "    def __init__(self, n=None, m=None, values=None):\n",
    "        if values is not None: #initialized with lists\n",
    "            self.data = values\n",
    "            self.n = len(values)\n",
    "            self.m = len(values[0])\n",
    "        elif n is not None and m is not None: #initialized with n x m\n",
    "            self.data = [[0 for _ in range(m)] for _ in range(n)]\n",
    "            self.n = n\n",
    "            self.m = m\n",
    "        else:\n",
    "            self.data = None\n",
    "            self.n, self.m = None, None\n",
    "\n",
    "    def __getitem__(self, index):\n",
    "        row, col = index  \n",
    "        return self.data[row][col]\n",
    "\n",
    "    def __setitem__(self, index, value):\n",
    "        row, col = index\n",
    "        self.data[row][col] = value\n",
    "\n",
    "    def shape(self):\n",
    "        return self.n, self.m\n",
    "\n",
    "    def assign(self, values):\n",
    "        if isinstance(values, Matrix):\n",
    "            self.data = [row[:] for row in values.data]  \n",
    "        elif isinstance(values, list):\n",
    "            self.data = [row[:] for row in values] \n",
    "\n",
    "    def __repr__(self):\n",
    "        return \"\\n\".join(str(row) for row in self.data)\n"
   ]
  },
  {
   "cell_type": "code",
   "execution_count": 2,
   "metadata": {},
   "outputs": [
    {
     "name": "stdout",
     "output_type": "stream",
     "text": [
      "[1, 2, 3]\n",
      "[4, 5, 6]\n"
     ]
    }
   ],
   "source": [
    "# Make matrix from a lists\n",
    "m1 = Matrix(values=[[1, 2, 3], [4, 5, 6]])\n",
    "print(m1)"
   ]
  },
  {
   "cell_type": "code",
   "execution_count": 3,
   "metadata": {},
   "outputs": [
    {
     "name": "stdout",
     "output_type": "stream",
     "text": [
      "[0, 0, 0, 0, 0]\n",
      "[0, 0, 0, 0, 0]\n",
      "[0, 0, 0, 0, 0]\n"
     ]
    }
   ],
   "source": [
    "# n xm\n",
    "m2 = Matrix(3, 5)\n",
    "print(m2)"
   ]
  },
  {
   "cell_type": "code",
   "execution_count": 4,
   "metadata": {},
   "outputs": [
    {
     "name": "stdout",
     "output_type": "stream",
     "text": [
      "\n",
      "Element at (1, 2): 0\n",
      "\n",
      "Updated Matrix m2:\n",
      "[0, 0, 0, 0, 0]\n",
      "[0, 0, 6, 0, 0]\n",
      "[0, 0, 0, 0, 0]\n"
     ]
    }
   ],
   "source": [
    "print(\"\\nElement at (1, 2):\", m2[1, 2])\n",
    "m2[1, 2]=6\n",
    "print(\"\\nUpdated Matrix m2:\")\n",
    "print(m2)\n"
   ]
  },
  {
   "cell_type": "markdown",
   "metadata": {},
   "source": [
    "### Adding new methods to the matrix class"
   ]
  },
  {
   "cell_type": "code",
   "execution_count": 5,
   "metadata": {},
   "outputs": [],
   "source": [
    "class Matrix:\n",
    "    def __init__(self, n=None, m=None, values=None):\n",
    "        if values is not None:\n",
    "            self.data = values\n",
    "            self.n = len(values)\n",
    "            self.m = len(values[0])\n",
    "        elif n is not None and m is not None:\n",
    "            self.data = [[0 for _ in range(m)] for _ in range(n)]\n",
    "            self.n = n\n",
    "            self.m = m\n",
    "        else:\n",
    "            self.data = None\n",
    "            self.n, self.m = None, None\n",
    "\n",
    "    def __getitem__(self, index):\n",
    "        if isinstance(index, tuple):\n",
    "            row, col = index\n",
    "            return self.data[row][col]\n",
    "        elif isinstance(index, slice):  # slice n' dice\n",
    "            return self.data[index]\n",
    "        elif isinstance(index, int):  # access direct rows\n",
    "            return self.data[index]\n",
    "        else:\n",
    "            raise TypeError(\"Invalid index type.\")\n",
    "\n",
    "    def __setitem__(self, index, value):\n",
    "        row, col = index\n",
    "        self.data[row][col] = value\n",
    "\n",
    "    def shape(self):\n",
    "        return self.n, self.m\n",
    "\n",
    "    def transpose(self):\n",
    "        transposed = [[self.data[j][i] for j in range(self.n)] for i in range(self.m)]\n",
    "        return Matrix(values=transposed)\n",
    "\n",
    "    def row(self, n):\n",
    "        return Matrix(values=[self.data[n]])\n",
    "\n",
    "    def column(self, n): #return the nth column as a new matrix\n",
    "        col = [[self.data[i][n]] for i in range(self.n)]\n",
    "        return Matrix(values=col)\n",
    "\n",
    "    def to_list(self):\n",
    "        return self.data\n",
    "\n",
    "    def block(self, n_0, n_1, m_0, m_1): \n",
    "        submatrix = [row[m_0:m_1] for row in self.data[n_0:n_1]]\n",
    "        return Matrix(values=submatrix)\n",
    "\n",
    "    def __repr__(self):\n",
    "        return \"\\n\".join(str(row) for row in self.data)\n"
   ]
  },
  {
   "cell_type": "code",
   "execution_count": 6,
   "metadata": {},
   "outputs": [
    {
     "name": "stdout",
     "output_type": "stream",
     "text": [
      "Original Matrix:\n",
      "[1, 0, 1]\n",
      "[2, 1, 2]\n",
      "[3, 2, 3]\n",
      "\n",
      "Shape: (3, 3)\n",
      "Transposed Matrix:\n",
      "[1, 2, 3]\n",
      "[0, 1, 2]\n",
      "[1, 2, 3]\n",
      "Row 1 as a matrix:\n",
      "[2, 1, 2]\n",
      "Column 1 as a matrix:\n",
      "[0]\n",
      "[1]\n",
      "[2]\n",
      "Matrix as list of lists:\n",
      "[[1, 0, 1], [2, 1, 2], [3, 2, 3]]\n",
      "Block (1:3, 0:2):\n",
      "[2, 1]\n",
      "[3, 2]\n",
      "Rows 0:2:\n",
      "[[1, 0, 1], [2, 1, 2]]\n"
     ]
    }
   ],
   "source": [
    "# Set up a matrix\n",
    "m = Matrix(values=[[1, 0, 1], [2, 1, 2], [3, 2, 3]])\n",
    "print('Original Matrix:')\n",
    "print(m)\n",
    "\n",
    "# Find shape\n",
    "print(\"\\nShape:\", m.shape())\n",
    "\n",
    "# Transpose\n",
    "print('Transposed Matrix:')\n",
    "print(m.transpose())\n",
    "\n",
    "# Get 2nd row\n",
    "print('Row 1 as a matrix:')\n",
    "print(m.row(1))\n",
    "\n",
    "# Get he 3rd column\n",
    "print('Column 1 as a matrix:')\n",
    "print(m.column(1))\n",
    "\n",
    "# Convert to list\n",
    "print('Matrix as list of lists:')\n",
    "print(m.to_list())\n",
    "\n",
    "# Block\n",
    "print('Block (1:3, 0:2):')\n",
    "print(m.block(1, 3, 0, 2))\n",
    "\n",
    "# slicin' n' dicin'\n",
    "print('Rows 0:2:')\n",
    "print(m[0:2])\n"
   ]
  },
  {
   "cell_type": "markdown",
   "metadata": {},
   "source": [
    "### Write functions that create special matrices (note these are standalone functions, not member functions of your matrix class)"
   ]
  },
  {
   "cell_type": "code",
   "execution_count": 7,
   "metadata": {},
   "outputs": [
    {
     "name": "stdout",
     "output_type": "stream",
     "text": [
      "Constant Matrix:\n",
      "[9, 9, 9]\n",
      "[9, 9, 9]\n",
      "[9, 9, 9]\n"
     ]
    }
   ],
   "source": [
    "def constant(n, m, c):\n",
    "    return Matrix(values=[[c for _ in range(m)] for _ in range(n)])\n",
    "\n",
    "m_constant = constant(3, 3, 9)\n",
    "print('Constant Matrix:')\n",
    "print(m_constant)"
   ]
  },
  {
   "cell_type": "code",
   "execution_count": 8,
   "metadata": {},
   "outputs": [
    {
     "name": "stdout",
     "output_type": "stream",
     "text": [
      "Zeros Matrix:\n",
      "[0, 0, 0, 0]\n",
      "[0, 0, 0, 0]\n",
      "[0, 0, 0, 0]\n"
     ]
    }
   ],
   "source": [
    "def zeros(n, m):\n",
    "    return Matrix(values=[[0 for _ in range(m)] for _ in range(n)])\n",
    "\n",
    "m_zeros = zeros(3, 4)\n",
    "print('Zeros Matrix:')\n",
    "print(m_zeros)"
   ]
  },
  {
   "cell_type": "code",
   "execution_count": 9,
   "metadata": {},
   "outputs": [
    {
     "name": "stdout",
     "output_type": "stream",
     "text": [
      "Ones Matrix:\n",
      "[1, 1, 1, 1, 1]\n",
      "[1, 1, 1, 1, 1]\n",
      "[1, 1, 1, 1, 1]\n",
      "[1, 1, 1, 1, 1]\n",
      "[1, 1, 1, 1, 1]\n"
     ]
    }
   ],
   "source": [
    "def ones(n, m):\n",
    "    return Matrix(values=[[1 for _ in range(m)] for _ in range(n)])\n",
    "\n",
    "m_ones = ones(5, 5)\n",
    "print('Ones Matrix:')\n",
    "print(m_ones)"
   ]
  },
  {
   "cell_type": "code",
   "execution_count": 10,
   "metadata": {},
   "outputs": [
    {
     "name": "stdout",
     "output_type": "stream",
     "text": [
      "Identity Matrix:\n",
      "[1, 0, 0]\n",
      "[0, 1, 0]\n",
      "[0, 0, 1]\n"
     ]
    }
   ],
   "source": [
    "def eye(n):\n",
    "    return Matrix(values=[[1 if i == j else 0 for j in range(n)] for i in range(n)])\n",
    "\n",
    "m_eye = eye(3)\n",
    "print('Identity Matrix:')\n",
    "print(m_eye)"
   ]
  },
  {
   "cell_type": "code",
   "execution_count": 11,
   "metadata": {},
   "outputs": [
    {
     "name": "stdout",
     "output_type": "stream",
     "text": [
      "Identity Matrix (5):\n",
      "[1, 0, 0, 0, 0]\n",
      "[0, 1, 0, 0, 0]\n",
      "[0, 0, 1, 0, 0]\n",
      "[0, 0, 0, 1, 0]\n",
      "[0, 0, 0, 0, 1]\n"
     ]
    }
   ],
   "source": [
    "m_eye = eye(5)\n",
    "print('Identity Matrix (5):')\n",
    "print(m_eye)"
   ]
  },
  {
   "cell_type": "markdown",
   "metadata": {},
   "source": [
    "### Adding new features to the matrix class again"
   ]
  },
  {
   "cell_type": "code",
   "execution_count": 12,
   "metadata": {},
   "outputs": [],
   "source": [
    "class Matrix:\n",
    "    def __init__(self, n=None, m=None, values=None):\n",
    "        if values is not None:\n",
    "            self.data = values\n",
    "            self.n = len(values)\n",
    "            self.m = len(values[0])\n",
    "        elif n is not None and m is not None:\n",
    "            self.data = [[0 for _ in range(m)] for _ in range(n)]\n",
    "            self.n = n\n",
    "            self.m = m\n",
    "        else:\n",
    "            self.data = None\n",
    "            self.n, self.m = None, None\n",
    "\n",
    "    def __getitem__(self, index):\n",
    "        if isinstance(index, tuple):\n",
    "            row, col = index\n",
    "            return self.data[row][col]\n",
    "        elif isinstance(index, slice):  # slice n' dice\n",
    "            return self.data[index]\n",
    "        elif isinstance(index, int):  # access direct rows\n",
    "            return self.data[index]\n",
    "        else:\n",
    "            raise TypeError(\"Invalid index type.\")\n",
    "\n",
    "    def __setitem__(self, index, value):\n",
    "        row, col = index\n",
    "        self.data[row][col] = value\n",
    "\n",
    "    def shape(self):\n",
    "        return self.n, self.m\n",
    "\n",
    "    def transpose(self):\n",
    "        transposed = [[self.data[j][i] for j in range(self.n)] for i in range(self.m)]\n",
    "        return Matrix(values=transposed)\n",
    "\n",
    "    def row(self, n):\n",
    "        return Matrix(values=[self.data[n]])\n",
    "\n",
    "    def column(self, n): #return the nth column as a new matrix\n",
    "        col = [[self.data[i][n]] for i in range(self.n)]\n",
    "        return Matrix(values=col)\n",
    "\n",
    "    def to_list(self):\n",
    "        return self.data\n",
    "\n",
    "    def block(self, n_0, n_1, m_0, m_1): \n",
    "        submatrix = [row[m_0:m_1] for row in self.data[n_0:n_1]]\n",
    "        return Matrix(values=submatrix)\n",
    "    \n",
    "    #adding the new features\n",
    "    def scalarmul(self, c): #multiplication\n",
    "        return Matrix(values=[[c * self.data[i][j] for j in range(self.m)] for i in range(self.n)])\n",
    "\n",
    "    def add(self, other):\n",
    "        if self.shape() != other.shape():\n",
    "            return None\n",
    "        return Matrix(values=[[self.data[i][j] + other[i, j] for j in range(self.m)] for i in range(self.n)])\n",
    "\n",
    "    def sub(self, other):\n",
    "        if self.shape() != other.shape():\n",
    "            return None\n",
    "        return Matrix(values=[[self.data[i][j] - other[i, j] for j in range(self.m)] for i in range(self.n)])\n",
    "\n",
    "    def mat_mult(self, other):\n",
    "        if self.m != other.n:\n",
    "            return None\n",
    "        result = [[sum(self.data[i][k] * other[k, j] for k in range(self.m)) for j in range(other.m)] for i in range(self.n)]\n",
    "        return Matrix(values=result)\n",
    "\n",
    "    def element_mult(self, other):\n",
    "        if self.shape() != other.shape():\n",
    "            return None\n",
    "        result = [[self.data[i][j] * other[i, j] for j in range(self.m)] for i in range(self.n)]\n",
    "        return Matrix(values=result)\n",
    "\n",
    "    def equals(self, other):\n",
    "        return self.data == other.data\n",
    "\n",
    "    ### back to original matric\n",
    "    def __repr__(self):\n",
    "        return \"\\n\".join(str(row) for row in self.data)\n",
    "\n",
    "    "
   ]
  },
  {
   "cell_type": "code",
   "execution_count": 13,
   "metadata": {},
   "outputs": [
    {
     "name": "stdout",
     "output_type": "stream",
     "text": [
      "Matrix M:\n",
      "[2, 4]\n",
      "[6, 8]\n",
      "Matrix N:\n",
      "[9, 7]\n",
      "[5, 3]\n",
      "Scalar Multiplication:\n",
      "[4, 8]\n",
      "[12, 16]\n",
      "Scalar Multiplication:\n",
      "[18, 14]\n",
      "[10, 6]\n",
      "Matrix Addition:\n",
      "[11, 11]\n",
      "[11, 11]\n",
      "Matrix Subtraction:\n",
      "[-7, -3]\n",
      "[1, 5]\n",
      "Matrix Multiplication:\n",
      "[38, 26]\n",
      "[94, 66]\n",
      "Element-wise Multiplication:\n",
      "[18, 28]\n",
      "[30, 24]\n",
      "\n",
      "Equality Check: False\n"
     ]
    }
   ],
   "source": [
    "# setting up two 2x2 matrices\n",
    "M = Matrix(values=[[2, 4], [6, 8]])\n",
    "N = Matrix(values=[[9, 7], [5, 3]])\n",
    "print('Matrix M:')\n",
    "print(M)\n",
    "print('Matrix N:')\n",
    "print(N)\n",
    "\n",
    "# M scalar multiplication\n",
    "M_scaled = M.scalarmul(2)\n",
    "print('Scalar Multiplication:')\n",
    "print(M_scaled)\n",
    "\n",
    "# N scalar multiplication\n",
    "N_scaled = N.scalarmul(2)\n",
    "print('Scalar Multiplication:')\n",
    "print(N_scaled)\n",
    "\n",
    "# addition\n",
    "M_added = M.add(N)\n",
    "print('Matrix Addition:')\n",
    "print(M_added)\n",
    "\n",
    "# subtraction\n",
    "M_subtracted = M.sub(N)\n",
    "print('Matrix Subtraction:')\n",
    "print(M_subtracted)\n",
    "\n",
    "# multiplication\n",
    "M_mult = M.mat_mult(N)\n",
    "print('Matrix Multiplication:')\n",
    "print(M_mult)\n",
    "\n",
    "# element-wise multiplication\n",
    "M_element_mult = M.element_mult(N)\n",
    "print('Element-wise Multiplication:')\n",
    "print(M_element_mult)\n",
    "\n",
    "# check equality\n",
    "print(\"\\nEquality Check:\", (M.equals(N)))\n"
   ]
  },
  {
   "cell_type": "markdown",
   "metadata": {},
   "source": [
    "## Checking the functionality of the Matirx class"
   ]
  },
  {
   "cell_type": "code",
   "execution_count": 14,
   "metadata": {},
   "outputs": [
    {
     "name": "stdout",
     "output_type": "stream",
     "text": [
      "(AB)C = A(BC):\n",
      "Result of (AB)C:  [348, 540]\n",
      "[876, 1356]\n",
      "Result of A(BC):  [348, 540]\n",
      "[876, 1356]\n",
      "A(B + C) = AB + AC:\n",
      "Result of A(B + C):  [80, 86]\n",
      "[184, 198]\n",
      "Result of AB + AC:  [80, 86]\n",
      "[184, 198]\n",
      "AB does not = BA:\n",
      "Result of AB:  [38, 26]\n",
      "[94, 66]\n",
      "Result of BA:  [60, 92]\n",
      "[28, 44]\n",
      "AI = A:\n",
      "Result of AI:  [2, 4]\n",
      "[6, 8]\n",
      "Matrix A:  [2, 4]\n",
      "[6, 8]\n"
     ]
    }
   ],
   "source": [
    "# start with setting up an A and B matrix\n",
    "A = Matrix(values=[[2, 4], [6, 8]])\n",
    "B = Matrix(values=[[9, 7], [5, 3]])\n",
    "\n",
    "# identity matrix\n",
    "I = Matrix(values=[[1, 0], [0, 1]])\n",
    "\n",
    "# (AB)C = A(BC)\n",
    "C = Matrix(values=[[3, 6], [9, 12]])\n",
    "\n",
    "AB = A.mat_mult(B)\n",
    "(AB).mat_mult(C)  # (AB)C\n",
    "A.mat_mult(B.mat_mult(C))  # A(BC)\n",
    "\n",
    "print('(AB)C = A(BC):')\n",
    "print('Result of (AB)C: ', (AB).mat_mult(C))\n",
    "print('Result of A(BC): ', A.mat_mult(B.mat_mult(C)))\n",
    "\n",
    "#A(B + C) = AB + AC \n",
    "B_plus_C = B.add(C)\n",
    "A_B_plus_C = A.mat_mult(B_plus_C)  # A(B + C)\n",
    "AB_plus_AC = A.mat_mult(B).add(A.mat_mult(C))  # AB + AC\n",
    "\n",
    "print('A(B + C) = AB + AC:')\n",
    "print('Result of A(B + C): ', A_B_plus_C)\n",
    "print('Result of AB + AC: ', AB_plus_AC)\n",
    "\n",
    "# AB not = BA\n",
    "AB = A.mat_mult(B)\n",
    "BA = B.mat_mult(A)\n",
    "\n",
    "print('AB does not = BA:')\n",
    "print('Result of AB: ', AB)\n",
    "print('Result of BA: ', BA)\n",
    "\n",
    "# AI = A\n",
    "AI = A.mat_mult(I)\n",
    "\n",
    "print('AI = A:')\n",
    "print('Result of AI: ', AI)\n",
    "print('Matrix A: ', A)\n"
   ]
  },
  {
   "cell_type": "code",
   "execution_count": null,
   "metadata": {},
   "outputs": [],
   "source": []
  }
 ],
 "metadata": {
  "kernelspec": {
   "display_name": "Python 3 (ipykernel)",
   "language": "python",
   "name": "python3"
  },
  "language_info": {
   "codemirror_mode": {
    "name": "ipython",
    "version": 3
   },
   "file_extension": ".py",
   "mimetype": "text/x-python",
   "name": "python",
   "nbconvert_exporter": "python",
   "pygments_lexer": "ipython3",
   "version": "3.13.1"
  }
 },
 "nbformat": 4,
 "nbformat_minor": 4
}
