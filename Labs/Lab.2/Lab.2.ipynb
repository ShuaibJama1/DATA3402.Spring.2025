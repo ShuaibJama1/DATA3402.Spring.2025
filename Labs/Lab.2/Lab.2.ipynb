{
 "cells": [
  {
   "cell_type": "markdown",
   "metadata": {},
   "source": [
    "## Lab 2- Tic Tac Toe (Solutions)\n",
    "\n",
    "In this lab your will build a n x n Tic Tac Toe game. As you do the exercises, make sure your solutions work for any size Tic Tac Toe game. "
   ]
  },
  {
   "cell_type": "markdown",
   "metadata": {},
   "source": [
    "*Exercise 1:* Write a function that creates an n by n matrix (of list of lists) which will represent the state of a Tie Tac Toe game. Let 0, 1, and 2 represent empty, \"X\", and \"O\", respectively.\n"
   ]
  },
  {
   "cell_type": "code",
   "execution_count": null,
   "metadata": {
    "collapsed": true,
    "jupyter": {
     "outputs_hidden": true
    }
   },
   "outputs": [],
   "source": [
    "def tic_tac_toe_board(n):\n",
    "    return [[0 for _ in range(size)] for _ in range(size)]\n",
    "\n",
    "size = 3\n",
    "board = tic_tac_toe_board(size)\n",
    "for row in board:\n",
    "    print(row)"
   ]
  },
  {
   "cell_type": "code",
   "execution_count": 1,
   "metadata": {},
   "outputs": [
    {
     "name": "stdout",
     "output_type": "stream",
     "text": [
      "[0, 0, 0]\n",
      "[0, 0, 0]\n",
      "[0, 0, 0]\n"
     ]
    }
   ],
   "source": [
    "def tic_tac_toe_board(n):\n",
    "    return [[0 for _ in range(size)] for _ in range(size)]\n",
    "\n",
    "size = 3\n",
    "board = tic_tac_toe_board(size)\n",
    "for row in board:\n",
    "    print(row)"
   ]
  },
  {
   "cell_type": "markdown",
   "metadata": {},
   "source": [
    "*Exercise 2:* Write a function that takes 2 integers `n` and `m` as input and draws a `n` by `m` game board. For example the following is a 3x3 board:\n",
    "```\n",
    "   --- --- --- \n",
    "  |   |   |   | \n",
    "   --- --- ---  \n",
    "  |   |   |   | \n",
    "   --- --- ---  \n",
    "  |   |   |   | \n",
    "   --- --- --- \n",
    "   ```"
   ]
  },
  {
   "cell_type": "code",
   "execution_count": null,
   "metadata": {
    "collapsed": true,
    "jupyter": {
     "outputs_hidden": true
    }
   },
   "outputs": [],
   "source": [
    "def game_board(n, m):\n",
    "    for i in range(n):\n",
    "        print(\" ---\" * m)\n",
    "        print(\"|   \" * (m + 1))\n",
    "    print(\" ---\" * m)\n",
    "\n",
    "game_board(3, 3)"
   ]
  },
  {
   "cell_type": "code",
   "execution_count": 7,
   "metadata": {},
   "outputs": [
    {
     "name": "stdout",
     "output_type": "stream",
     "text": [
      " --- --- ---\n",
      "|   |   |   |   \n",
      " --- --- ---\n",
      "|   |   |   |   \n",
      " --- --- ---\n",
      "|   |   |   |   \n",
      " --- --- ---\n"
     ]
    }
   ],
   "source": [
    "def game_board(n, m):\n",
    "    for i in range(n):\n",
    "        print(\" ---\" * m)\n",
    "        print(\"|   \" * (m + 1))\n",
    "    print(\" ---\" * m)\n",
    "\n",
    "game_board(3, 3)"
   ]
  },
  {
   "cell_type": "markdown",
   "metadata": {},
   "source": [
    "*Exercise 3:* Modify exercise 2, so that it takes a matrix of the form from exercise 1 and draws a tic-tac-tie board with \"X\"s and \"O\"s.  "
   ]
  },
  {
   "cell_type": "code",
   "execution_count": null,
   "metadata": {
    "collapsed": true,
    "jupyter": {
     "outputs_hidden": true
    }
   },
   "outputs": [],
   "source": [
    "def tic_tac_toe(board):\n",
    "    symbols = {0: \" \", 1: \"X\", 2: \"O\"}\n",
    "    size = len(board)\n",
    "    for row in board:\n",
    "        print(\" ---\" * size)\n",
    "        print(\"| \" + \" | \".join(symbols[cell] for cell in row) + \" |\")\n",
    "    print(\" ---\" * size)\n",
    "\n",
    "test_board = [[0, 1, 2], [2, 1, 0], [1, 2, 1]]\n",
    "tic_tac_toe(test_board)"
   ]
  },
  {
   "cell_type": "code",
   "execution_count": 8,
   "metadata": {},
   "outputs": [
    {
     "name": "stdout",
     "output_type": "stream",
     "text": [
      " --- --- ---\n",
      "|   | X | O |\n",
      " --- --- ---\n",
      "| O | X |   |\n",
      " --- --- ---\n",
      "| X | O | X |\n",
      " --- --- ---\n"
     ]
    }
   ],
   "source": [
    "def tic_tac_toe(board):\n",
    "    symbols = {0: \" \", 1: \"X\", 2: \"O\"}\n",
    "    size = len(board)\n",
    "    for row in board:\n",
    "        print(\" ---\" * size)\n",
    "        print(\"| \" + \" | \".join(symbols[cell] for cell in row) + \" |\")\n",
    "    print(\" ---\" * size)\n",
    "\n",
    "test_board = [[0, 1, 2], [2, 1, 0], [1, 2, 1]]\n",
    "tic_tac_toe(test_board)"
   ]
  },
  {
   "cell_type": "markdown",
   "metadata": {},
   "source": [
    "*Exercise 4:* Write a function that takes a `n` by `n` matrix representing a tic-tac-toe game, and returns -1, 0, 1, or 2 indicating the game is incomplete, the game is a draw, player 1 has won, or player 2 has one, respectively. Here are some example inputs you can use to test your code:"
   ]
  },
  {
   "cell_type": "code",
   "execution_count": null,
   "metadata": {
    "collapsed": true,
    "jupyter": {
     "outputs_hidden": true
    }
   },
   "outputs": [],
   "source": [
    "def check_tic_tac_toe(board):\n",
    "    for row in board:\n",
    "        if row.count(1) == len(board): return 1\n",
    "        if row.count(2) == len(board): return 2\n",
    "    \n",
    "    for col in zip(*board):\n",
    "        if col.count(1) == len(board): return 1\n",
    "        if col.count(2) == len(board): return 2\n",
    "    \n",
    "    if all(board[i][i] == 1 for i in range(len(board))) or all(board[i][-i-1] == 1 for i in range(len(board))):\n",
    "        return 1\n",
    "    if all(board[i][i] == 2 for i in range(len(board))) or all(board[i][-i-1] == 2 for i in range(len(board))):\n",
    "        return 2\n",
    "    \n",
    "    return -1 if any(0 in row for row in board) else 0"
   ]
  },
  {
   "cell_type": "code",
   "execution_count": 9,
   "metadata": {},
   "outputs": [],
   "source": [
    "def check_tic_tac_toe(board):\n",
    "    for row in board:\n",
    "        if row.count(1) == len(board): return 1\n",
    "        if row.count(2) == len(board): return 2\n",
    "    \n",
    "    for col in zip(*board):\n",
    "        if col.count(1) == len(board): return 1\n",
    "        if col.count(2) == len(board): return 2\n",
    "    \n",
    "    if all(board[i][i] == 1 for i in range(len(board))) or all(board[i][-i-1] == 1 for i in range(len(board))):\n",
    "        return 1\n",
    "    if all(board[i][i] == 2 for i in range(len(board))) or all(board[i][-i-1] == 2 for i in range(len(board))):\n",
    "        return 2\n",
    "    \n",
    "    return -1 if any(0 in row for row in board) else 0"
   ]
  },
  {
   "cell_type": "code",
   "execution_count": 10,
   "metadata": {},
   "outputs": [
    {
     "name": "stdout",
     "output_type": "stream",
     "text": [
      "2\n",
      "1\n",
      "1\n",
      "-1\n",
      "-1\n"
     ]
    }
   ],
   "source": [
    "# Test Cases\n",
    "winner_is_2 = [[2, 2, 0],\n",
    "    [2, 1, 0],\n",
    "    [2, 1, 1]]\n",
    "\n",
    "winner_is_1 = [[1, 2, 0],\n",
    "    [2, 1, 0],\n",
    "    [2, 1, 1]]\n",
    "\n",
    "winner_is_also_1 = [[0, 1, 0],\n",
    "    [2, 1, 0],\n",
    "    [2, 1, 1]]\n",
    "\n",
    "no_winner = [[1, 2, 0],\n",
    "    [2, 1, 0],\n",
    "    [2, 1, 2]]\n",
    "\n",
    "also_no_winner = [[1, 2, 0],\n",
    "    [2, 1, 0],\n",
    "    [2, 1, 0]]\n",
    "\n",
    "print(check_tic_tac_toe(winner_is_2))\n",
    "print(check_tic_tac_toe(winner_is_1))\n",
    "print(check_tic_tac_toe(winner_is_also_1))\n",
    "print(check_tic_tac_toe(no_winner))\n",
    "print(check_tic_tac_toe(also_no_winner))"
   ]
  },
  {
   "cell_type": "markdown",
   "metadata": {},
   "source": [
    "*Exercise 5:* Write a function that takes a game board, player number, and `(x,y)` coordinates and places \"X\" or \"O\" in the correct location of the game board. Make sure that you only allow filling previously empty locations. Return `True` or `False` to indicate successful placement of \"X\" or \"O\"."
   ]
  },
  {
   "cell_type": "code",
   "execution_count": null,
   "metadata": {
    "collapsed": true,
    "jupyter": {
     "outputs_hidden": true
    }
   },
   "outputs": [],
   "source": [
    "def place_move(board, player, x, y):\n",
    "    if board[x][y] == 0:\n",
    "        board[x][y] = player\n",
    "        return True\n",
    "    return False"
   ]
  },
  {
   "cell_type": "code",
   "execution_count": 11,
   "metadata": {},
   "outputs": [],
   "source": [
    "def place_move(board, player, x, y):\n",
    "    if board[x][y] == 0:\n",
    "        board[x][y] = player\n",
    "        return True\n",
    "    return False"
   ]
  },
  {
   "cell_type": "markdown",
   "metadata": {},
   "source": [
    "*Exercise 6:* Modify Exercise 3 to show column and row labels so that players can specify location using \"A2\" or \"C1\"."
   ]
  },
  {
   "cell_type": "code",
   "execution_count": null,
   "metadata": {
    "collapsed": true,
    "jupyter": {
     "outputs_hidden": true
    }
   },
   "outputs": [],
   "source": [
    "def draw_tic_tac_toe(board):\n",
    "    symbols = {0: \" \", 1: \"X\", 2: \"O\"}\n",
    "    size = len(board)\n",
    "    print(\"   \" + \"   \".join(chr(65 + i) for i in range(size)))\n",
    "    for i, row in enumerate(board, start=1):\n",
    "        print(\"  \" + \" ---\" * size)\n",
    "        print(f\"{i} | \" + \" | \".join(symbols[cell] for cell in row) + \" |\")\n",
    "    print(\"  \" + \" ---\" * size)"
   ]
  },
  {
   "cell_type": "code",
   "execution_count": 19,
   "metadata": {},
   "outputs": [
    {
     "name": "stdout",
     "output_type": "stream",
     "text": [
      "   A   B   C\n",
      "   --- --- ---\n",
      "1 |   |   |   |\n",
      "   --- --- ---\n",
      "2 |   |   |   |\n",
      "   --- --- ---\n",
      "3 |   |   |   |\n",
      "   --- --- ---\n"
     ]
    }
   ],
   "source": [
    "draw_tic_tac_toe(board)"
   ]
  },
  {
   "cell_type": "markdown",
   "metadata": {},
   "source": [
    "*Exercise 7:* Write a function that takes a board, player number, and location specified as in exercise 6 and then calls exercise 5 to correctly modify the board.  "
   ]
  },
  {
   "cell_type": "code",
   "execution_count": 14,
   "metadata": {},
   "outputs": [],
   "source": [
    "def place_move_by_location(board, player, location):\n",
    "    col = ord(location[0].upper()) - 65\n",
    "    row = int(location[1]) - 1\n",
    "    place_move(board, player, row, col)"
   ]
  },
  {
   "cell_type": "code",
   "execution_count": 15,
   "metadata": {},
   "outputs": [],
   "source": [
    "def place_move_by_location(board, player, location):\n",
    "    col = ord(location[0].upper()) - 65\n",
    "    row = int(location[1]) - 1\n",
    "    place_move(board, player, row, col)"
   ]
  },
  {
   "cell_type": "markdown",
   "metadata": {},
   "source": [
    "*Exercise 8:* Write a function is called with a board and player number, takes input from the player using python's `input`, and modifies the board using your function from exercise 7. Note that you should keep asking for input until you have gotten a valid input that results in a valid move."
   ]
  },
  {
   "cell_type": "code",
   "execution_count": 16,
   "metadata": {},
   "outputs": [],
   "source": [
    "def get_valid_move(board, player):\n",
    "    while True:\n",
    "        location = input(f\"Player {player}, enter your move: \")\n",
    "        col = ord(location[0].upper()) - 65\n",
    "        row = int(location[1]) - 1\n",
    "        if 0 <= row < len(board) and 0 <= col < len(board) and board[row][col] == 0:\n",
    "            place_move(board, player, row, col)\n",
    "            break\n",
    "        print(\"Invalid move. Try again.\")"
   ]
  },
  {
   "cell_type": "code",
   "execution_count": 17,
   "metadata": {},
   "outputs": [],
   "source": [
    "def get_valid_move(board, player):\n",
    "    while True:\n",
    "        location = input(f\"Player {player}, enter your move: \")\n",
    "        col = ord(location[0].upper()) - 65\n",
    "        row = int(location[1]) - 1\n",
    "        if 0 <= row < len(board) and 0 <= col < len(board) and board[row][col] == 0:\n",
    "            place_move(board, player, row, col)\n",
    "            break\n",
    "        print(\"Invalid move. Try again.\")"
   ]
  },
  {
   "cell_type": "markdown",
   "metadata": {},
   "source": [
    "*Exercise 9:* Use all of the previous exercises to implement a full tic-tac-toe game, where an appropriate board is drawn, 2 players are repeatedly asked for a location coordinates of where they wish to place a mark, and the game status is checked until a player wins or a draw occurs."
   ]
  },
  {
   "cell_type": "code",
   "execution_count": 18,
   "metadata": {},
   "outputs": [],
   "source": [
    "def create_board():\n",
    "    return [[0] * 3 for _ in range(3)]\n",
    "\n",
    "def draw_board(board):\n",
    "    symbols = {0: \" \", 1: \"X\", 2: \"O\"}\n",
    "    print(\"   A   B   C\")\n",
    "    for i, row in enumerate(board):\n",
    "        print(f\"{i + 1}  | \" + \" | \".join(symbols[cell] for cell in row) + \" |\")\n",
    "        if i < 2:\n",
    "            print(\"  ---+---+---\")\n",
    "\n",
    "def place_move(board, player, location):\n",
    "    col = ord(location[0].upper()) - 65\n",
    "    row = int(location[1]) - 1\n",
    "    if 0 <= row < 3 and 0 <= col < 3 and board[row][col] == 0:\n",
    "        board[row][col] = player\n",
    "        return True\n",
    "    return False\n",
    "\n",
    "def check_game_status(board):\n",
    "    for row in board:\n",
    "        if row.count(1) == 3: return 1\n",
    "        if row.count(2) == 3: return 2\n",
    "    for col in zip(*board):\n",
    "        if col.count(1) == 3: return 1\n",
    "        if col.count(2) == 3: return 2\n",
    "    if all(board[i][i] == 1 for i in range(3)) or all(board[i][2-i] == 1 for i in range(3)):\n",
    "        return 1\n",
    "    if all(board[i][i] == 2 for i in range(3)) or all(board[i][2-i] == 2 for i in range(3)):\n",
    "        return 2\n",
    "    if all(cell != 0 for row in board for cell in row):\n",
    "        return 0\n",
    "    return -1\n",
    "\n",
    "def tic_tac_toe_game():\n",
    "    print(\"Welcome to Tic-Tac-Toe.\")\n",
    "    print(\"-------------------------\")\n",
    "    \n",
    "    board = create_board()\n",
    "    player = 1\n",
    "    game_won = False\n",
    "    while not game_won:\n",
    "        draw_board(board)\n",
    "        print(f\"Player {player}'s move:\")\n",
    "        location = input(\"Enter the position (e.g., A1, B2, etc.): \")\n",
    "        \n",
    "        if place_move(board, player, location):\n",
    "            game_status = check_game_status(board)\n",
    "            if game_status == 1:\n",
    "                draw_board(board)\n",
    "                print(\"Player 1 (X) wins!\")\n",
    "                game_won = True\n",
    "            elif game_status == 2:\n",
    "                draw_board(board)\n",
    "                print(\"Player 2 (O) wins!\")\n",
    "                game_won = True\n",
    "            elif game_status == 0:\n",
    "                draw_board(board)\n",
    "                print(\"It's a draw!\")\n",
    "                game_won = True\n",
    "            else:\n",
    "                player = 2 if player == 1 else 1\n",
    "        else:\n",
    "            print(\"Invalid move. Please try again.\")"
   ]
  },
  {
   "cell_type": "code",
   "execution_count": 20,
   "metadata": {},
   "outputs": [
    {
     "name": "stdout",
     "output_type": "stream",
     "text": [
      "Welcome to Tic-Tac-Toe.\n",
      "-------------------------\n",
      "   A   B   C\n",
      "1  |   |   |   |\n",
      "  ---+---+---\n",
      "2  |   |   |   |\n",
      "  ---+---+---\n",
      "3  |   |   |   |\n",
      "Player 1's move:\n"
     ]
    },
    {
     "name": "stdin",
     "output_type": "stream",
     "text": [
      "Enter the position (e.g., A1, B2, etc.):  B2\n"
     ]
    },
    {
     "name": "stdout",
     "output_type": "stream",
     "text": [
      "   A   B   C\n",
      "1  |   |   |   |\n",
      "  ---+---+---\n",
      "2  |   | X |   |\n",
      "  ---+---+---\n",
      "3  |   |   |   |\n",
      "Player 2's move:\n"
     ]
    },
    {
     "name": "stdin",
     "output_type": "stream",
     "text": [
      "Enter the position (e.g., A1, B2, etc.):  A2\n"
     ]
    },
    {
     "name": "stdout",
     "output_type": "stream",
     "text": [
      "   A   B   C\n",
      "1  |   |   |   |\n",
      "  ---+---+---\n",
      "2  | O | X |   |\n",
      "  ---+---+---\n",
      "3  |   |   |   |\n",
      "Player 1's move:\n"
     ]
    },
    {
     "name": "stdin",
     "output_type": "stream",
     "text": [
      "Enter the position (e.g., A1, B2, etc.):  A6\n"
     ]
    },
    {
     "name": "stdout",
     "output_type": "stream",
     "text": [
      "Invalid move. Please try again.\n",
      "   A   B   C\n",
      "1  |   |   |   |\n",
      "  ---+---+---\n",
      "2  | O | X |   |\n",
      "  ---+---+---\n",
      "3  |   |   |   |\n",
      "Player 1's move:\n"
     ]
    },
    {
     "name": "stdin",
     "output_type": "stream",
     "text": [
      "Enter the position (e.g., A1, B2, etc.):  C3\n"
     ]
    },
    {
     "name": "stdout",
     "output_type": "stream",
     "text": [
      "   A   B   C\n",
      "1  |   |   |   |\n",
      "  ---+---+---\n",
      "2  | O | X |   |\n",
      "  ---+---+---\n",
      "3  |   |   | X |\n",
      "Player 2's move:\n"
     ]
    },
    {
     "name": "stdin",
     "output_type": "stream",
     "text": [
      "Enter the position (e.g., A1, B2, etc.):  A3\n"
     ]
    },
    {
     "name": "stdout",
     "output_type": "stream",
     "text": [
      "   A   B   C\n",
      "1  |   |   |   |\n",
      "  ---+---+---\n",
      "2  | O | X |   |\n",
      "  ---+---+---\n",
      "3  | O |   | X |\n",
      "Player 1's move:\n"
     ]
    },
    {
     "name": "stdin",
     "output_type": "stream",
     "text": [
      "Enter the position (e.g., A1, B2, etc.):  A1\n"
     ]
    },
    {
     "name": "stdout",
     "output_type": "stream",
     "text": [
      "   A   B   C\n",
      "1  | X |   |   |\n",
      "  ---+---+---\n",
      "2  | O | X |   |\n",
      "  ---+---+---\n",
      "3  | O |   | X |\n",
      "Player 1 (X) wins!\n"
     ]
    }
   ],
   "source": [
    "tic_tac_toe_game()"
   ]
  },
  {
   "cell_type": "markdown",
   "metadata": {},
   "source": [
    "*Exercise 10:* Test that your game works for 5x5 Tic Tac Toe.  "
   ]
  },
  {
   "cell_type": "code",
   "execution_count": 21,
   "metadata": {},
   "outputs": [
    {
     "name": "stdout",
     "output_type": "stream",
     "text": [
      "Welcome to 5x5 Tic-Tac-Toe.\n",
      "---------------------------\n",
      "   A   B   C   D   E\n",
      "1  |   |   |   |   |   |\n",
      "  ---  ---  ---  ---  ---\n",
      "2  |   |   |   |   |   |\n",
      "  ---  ---  ---  ---  ---\n",
      "3  |   |   |   |   |   |\n",
      "  ---  ---  ---  ---  ---\n",
      "4  |   |   |   |   |   |\n",
      "  ---  ---  ---  ---  ---\n",
      "5  |   |   |   |   |   |\n",
      "Player 1's move:\n"
     ]
    },
    {
     "name": "stdin",
     "output_type": "stream",
     "text": [
      "Enter the position (e.g., A1, B2, etc.):  A1\n"
     ]
    },
    {
     "name": "stdout",
     "output_type": "stream",
     "text": [
      "   A   B   C   D   E\n",
      "1  | X |   |   |   |   |\n",
      "  ---  ---  ---  ---  ---\n",
      "2  |   |   |   |   |   |\n",
      "  ---  ---  ---  ---  ---\n",
      "3  |   |   |   |   |   |\n",
      "  ---  ---  ---  ---  ---\n",
      "4  |   |   |   |   |   |\n",
      "  ---  ---  ---  ---  ---\n",
      "5  |   |   |   |   |   |\n",
      "Player 2's move:\n"
     ]
    },
    {
     "name": "stdin",
     "output_type": "stream",
     "text": [
      "Enter the position (e.g., A1, B2, etc.):  B1\n"
     ]
    },
    {
     "name": "stdout",
     "output_type": "stream",
     "text": [
      "   A   B   C   D   E\n",
      "1  | X | O |   |   |   |\n",
      "  ---  ---  ---  ---  ---\n",
      "2  |   |   |   |   |   |\n",
      "  ---  ---  ---  ---  ---\n",
      "3  |   |   |   |   |   |\n",
      "  ---  ---  ---  ---  ---\n",
      "4  |   |   |   |   |   |\n",
      "  ---  ---  ---  ---  ---\n",
      "5  |   |   |   |   |   |\n",
      "Player 1's move:\n"
     ]
    },
    {
     "name": "stdin",
     "output_type": "stream",
     "text": [
      "Enter the position (e.g., A1, B2, etc.):  A2\n"
     ]
    },
    {
     "name": "stdout",
     "output_type": "stream",
     "text": [
      "   A   B   C   D   E\n",
      "1  | X | O |   |   |   |\n",
      "  ---  ---  ---  ---  ---\n",
      "2  | X |   |   |   |   |\n",
      "  ---  ---  ---  ---  ---\n",
      "3  |   |   |   |   |   |\n",
      "  ---  ---  ---  ---  ---\n",
      "4  |   |   |   |   |   |\n",
      "  ---  ---  ---  ---  ---\n",
      "5  |   |   |   |   |   |\n",
      "Player 2's move:\n"
     ]
    },
    {
     "name": "stdin",
     "output_type": "stream",
     "text": [
      "Enter the position (e.g., A1, B2, etc.):  B2\n"
     ]
    },
    {
     "name": "stdout",
     "output_type": "stream",
     "text": [
      "   A   B   C   D   E\n",
      "1  | X | O |   |   |   |\n",
      "  ---  ---  ---  ---  ---\n",
      "2  | X | O |   |   |   |\n",
      "  ---  ---  ---  ---  ---\n",
      "3  |   |   |   |   |   |\n",
      "  ---  ---  ---  ---  ---\n",
      "4  |   |   |   |   |   |\n",
      "  ---  ---  ---  ---  ---\n",
      "5  |   |   |   |   |   |\n",
      "Player 1's move:\n"
     ]
    },
    {
     "name": "stdin",
     "output_type": "stream",
     "text": [
      "Enter the position (e.g., A1, B2, etc.):  A3\n"
     ]
    },
    {
     "name": "stdout",
     "output_type": "stream",
     "text": [
      "   A   B   C   D   E\n",
      "1  | X | O |   |   |   |\n",
      "  ---  ---  ---  ---  ---\n",
      "2  | X | O |   |   |   |\n",
      "  ---  ---  ---  ---  ---\n",
      "3  | X |   |   |   |   |\n",
      "  ---  ---  ---  ---  ---\n",
      "4  |   |   |   |   |   |\n",
      "  ---  ---  ---  ---  ---\n",
      "5  |   |   |   |   |   |\n",
      "Player 2's move:\n"
     ]
    },
    {
     "name": "stdin",
     "output_type": "stream",
     "text": [
      "Enter the position (e.g., A1, B2, etc.):  B3\n"
     ]
    },
    {
     "name": "stdout",
     "output_type": "stream",
     "text": [
      "   A   B   C   D   E\n",
      "1  | X | O |   |   |   |\n",
      "  ---  ---  ---  ---  ---\n",
      "2  | X | O |   |   |   |\n",
      "  ---  ---  ---  ---  ---\n",
      "3  | X | O |   |   |   |\n",
      "  ---  ---  ---  ---  ---\n",
      "4  |   |   |   |   |   |\n",
      "  ---  ---  ---  ---  ---\n",
      "5  |   |   |   |   |   |\n",
      "Player 1's move:\n"
     ]
    },
    {
     "name": "stdin",
     "output_type": "stream",
     "text": [
      "Enter the position (e.g., A1, B2, etc.):  A4\n"
     ]
    },
    {
     "name": "stdout",
     "output_type": "stream",
     "text": [
      "   A   B   C   D   E\n",
      "1  | X | O |   |   |   |\n",
      "  ---  ---  ---  ---  ---\n",
      "2  | X | O |   |   |   |\n",
      "  ---  ---  ---  ---  ---\n",
      "3  | X | O |   |   |   |\n",
      "  ---  ---  ---  ---  ---\n",
      "4  | X |   |   |   |   |\n",
      "  ---  ---  ---  ---  ---\n",
      "5  |   |   |   |   |   |\n",
      "Player 2's move:\n"
     ]
    },
    {
     "name": "stdin",
     "output_type": "stream",
     "text": [
      "Enter the position (e.g., A1, B2, etc.):  B4\n"
     ]
    },
    {
     "name": "stdout",
     "output_type": "stream",
     "text": [
      "   A   B   C   D   E\n",
      "1  | X | O |   |   |   |\n",
      "  ---  ---  ---  ---  ---\n",
      "2  | X | O |   |   |   |\n",
      "  ---  ---  ---  ---  ---\n",
      "3  | X | O |   |   |   |\n",
      "  ---  ---  ---  ---  ---\n",
      "4  | X | O |   |   |   |\n",
      "  ---  ---  ---  ---  ---\n",
      "5  |   |   |   |   |   |\n",
      "Player 1's move:\n"
     ]
    },
    {
     "name": "stdin",
     "output_type": "stream",
     "text": [
      "Enter the position (e.g., A1, B2, etc.):  C5\n"
     ]
    },
    {
     "name": "stdout",
     "output_type": "stream",
     "text": [
      "   A   B   C   D   E\n",
      "1  | X | O |   |   |   |\n",
      "  ---  ---  ---  ---  ---\n",
      "2  | X | O |   |   |   |\n",
      "  ---  ---  ---  ---  ---\n",
      "3  | X | O |   |   |   |\n",
      "  ---  ---  ---  ---  ---\n",
      "4  | X | O |   |   |   |\n",
      "  ---  ---  ---  ---  ---\n",
      "5  |   |   | X |   |   |\n",
      "Player 2's move:\n"
     ]
    },
    {
     "name": "stdin",
     "output_type": "stream",
     "text": [
      "Enter the position (e.g., A1, B2, etc.):  B5\n"
     ]
    },
    {
     "name": "stdout",
     "output_type": "stream",
     "text": [
      "   A   B   C   D   E\n",
      "1  | X | O |   |   |   |\n",
      "  ---  ---  ---  ---  ---\n",
      "2  | X | O |   |   |   |\n",
      "  ---  ---  ---  ---  ---\n",
      "3  | X | O |   |   |   |\n",
      "  ---  ---  ---  ---  ---\n",
      "4  | X | O |   |   |   |\n",
      "  ---  ---  ---  ---  ---\n",
      "5  |   | O | X |   |   |\n",
      "Player 2 (O) wins!\n"
     ]
    }
   ],
   "source": [
    "def create_board(size=5):\n",
    "    return [[0] * size for _ in range(size)]\n",
    "\n",
    "def draw_board(board):\n",
    "    size = len(board)\n",
    "    symbols = {0: \" \", 1: \"X\", 2: \"O\"}\n",
    "    print(\"   \" + \"   \".join(chr(65 + i) for i in range(size)))\n",
    "    for i, row in enumerate(board):\n",
    "        print(f\"{i + 1}  | \" + \" | \".join(symbols[cell] for cell in row) + \" |\")\n",
    "        if i < size - 1:\n",
    "            print(\"  ---\" * size)\n",
    "\n",
    "def place_move(board, player, location):\n",
    "    col = ord(location[0].upper()) - 65\n",
    "    row = int(location[1]) - 1\n",
    "    size = len(board)\n",
    "    if 0 <= row < size and 0 <= col < size and board[row][col] == 0:\n",
    "        board[row][col] = player\n",
    "        return True\n",
    "    return False\n",
    "\n",
    "def check_game_status(board):\n",
    "    size = len(board)\n",
    "    \n",
    "    for row in board:\n",
    "        if row.count(1) == size: return 1\n",
    "        if row.count(2) == size: return 2\n",
    "        \n",
    "    for col in zip(*board):\n",
    "        if col.count(1) == size: return 1\n",
    "        if col.count(2) == size: return 2\n",
    "\n",
    "    if all(board[i][i] == 1 for i in range(size)) or all(board[i][size-i-1] == 1 for i in range(size)):\n",
    "        return 1\n",
    "    if all(board[i][i] == 2 for i in range(size)) or all(board[i][size-i-1] == 2 for i in range(size)):\n",
    "        return 2\n",
    "\n",
    "    if all(cell != 0 for row in board for cell in row):\n",
    "        return 0\n",
    "    return -1\n",
    "\n",
    "def tic_tac_toe_game():\n",
    "    print(\"Welcome to 5x5 Tic-Tac-Toe.\")\n",
    "    print(\"---------------------------\")\n",
    "    \n",
    "    size = 5\n",
    "    board = create_board(size)\n",
    "    player = 1\n",
    "    game_won = False\n",
    "    while not game_won:\n",
    "        draw_board(board)\n",
    "        print(f\"Player {player}'s move:\")\n",
    "        location = input(\"Enter the position (e.g., A1, B2, etc.): \")\n",
    "        \n",
    "        if place_move(board, player, location):\n",
    "            game_status = check_game_status(board)\n",
    "            if game_status == 1:\n",
    "                draw_board(board)\n",
    "                print(\"Player 1 (X) wins!\")\n",
    "                game_won = True\n",
    "            elif game_status == 2:\n",
    "                draw_board(board)\n",
    "                print(\"Player 2 (O) wins!\")\n",
    "                game_won = True\n",
    "            elif game_status == 0:\n",
    "                draw_board(board)\n",
    "                print(\"It's a draw!\")\n",
    "                game_won = True\n",
    "            else:\n",
    "                player = 2 if player == 1 else 1\n",
    "        else:\n",
    "            print(\"Invalid move. Please try again.\")\n",
    "\n",
    "tic_tac_toe_game()"
   ]
  },
  {
   "cell_type": "markdown",
   "metadata": {},
   "source": [
    "*Exercise 11:* (Advanced / Challenge) Develop a version of the game where one player is the computer. Note that you don't need to do an extensive seach for the best move. You can have the computer simply protect against loosing and otherwise try to win with straight or diagonal patterns."
   ]
  },
  {
   "cell_type": "code",
   "execution_count": null,
   "metadata": {
    "collapsed": true,
    "jupyter": {
     "outputs_hidden": true
    }
   },
   "outputs": [],
   "source": [
    "# Write you solution here"
   ]
  },
  {
   "cell_type": "code",
   "execution_count": null,
   "metadata": {
    "collapsed": true,
    "jupyter": {
     "outputs_hidden": true
    }
   },
   "outputs": [],
   "source": [
    "# Test your solution here"
   ]
  }
 ],
 "metadata": {
  "kernelspec": {
   "display_name": "Python 3 (ipykernel)",
   "language": "python",
   "name": "python3"
  },
  "language_info": {
   "codemirror_mode": {
    "name": "ipython",
    "version": 3
   },
   "file_extension": ".py",
   "mimetype": "text/x-python",
   "name": "python",
   "nbconvert_exporter": "python",
   "pygments_lexer": "ipython3",
   "version": "3.13.1"
  }
 },
 "nbformat": 4,
 "nbformat_minor": 4
}
